{
 "cells": [
  {
   "cell_type": "code",
   "execution_count": 1,
   "metadata": {},
   "outputs": [
    {
     "name": "stderr",
     "output_type": "stream",
     "text": [
      "/home/maksm/miniconda3/envs/torch/lib/python3.10/site-packages/tqdm/auto.py:22: TqdmWarning: IProgress not found. Please update jupyter and ipywidgets. See https://ipywidgets.readthedocs.io/en/stable/user_install.html\n",
      "  from .autonotebook import tqdm as notebook_tqdm\n"
     ]
    }
   ],
   "source": [
    "import torch\n",
    "import torchvision\n",
    "import torch.nn as nn\n",
    "import torch.nn.functional as F\n",
    "import torch.optim as optim\n",
    "from torch.utils.data import DataLoader\n",
    "import torchvision.datasets as datasets \n",
    "import torchvision.transforms as transform\n",
    "from torch.utils.tensorboard import SummaryWriter\n",
    "from tqdm import tqdm\n"
   ]
  },
  {
   "cell_type": "code",
   "execution_count": 2,
   "metadata": {},
   "outputs": [],
   "source": [
    "device = torch.device('cuda' if torch.cuda.is_available() else 'cpu')"
   ]
  },
  {
   "cell_type": "code",
   "execution_count": 3,
   "metadata": {},
   "outputs": [],
   "source": [
    "class CNN(nn.Module):\n",
    "    def __init__(self, input_chanels=1, num_classes=10):\n",
    "        super(CNN, self).__init__()\n",
    "        self.conv1 = nn.Conv2d(input_chanels, 30, kernel_size=3, stride=1, padding=1)\n",
    "        self.pool = nn.MaxPool2d(kernel_size=2, stride=2)\n",
    "        self.conv2 = nn.Conv2d(30, 15, kernel_size=3, stride=1, padding=1)\n",
    "        self.fc = nn.Linear(7 * 7 * 15, num_classes)\n",
    "    \n",
    "    def forward(self, x):\n",
    "        x = F.relu(self.conv1(x))\n",
    "        x = self.pool(x)\n",
    "        x = F.relu(self.conv2(x))\n",
    "        x = self.pool(x)\n",
    "        x = x.reshape(x.shape[0], -1)\n",
    "        out = self.fc(x)\n",
    "        return out"
   ]
  },
  {
   "cell_type": "code",
   "execution_count": 4,
   "metadata": {},
   "outputs": [],
   "source": [
    "load_train = datasets.MNIST('datasets/', transform=transform.ToTensor())\n",
    "load_test = datasets.MNIST('datasets/', transform=transform.ToTensor(), train=False)\n"
   ]
  },
  {
   "cell_type": "code",
   "execution_count": 14,
   "metadata": {},
   "outputs": [],
   "source": [
    "batch_sizes = [256]\n",
    "learning_rates = [1e-3]\n",
    "classes = [\"0\", \"1\", \"2\", \"3\", \"4\", \"5\", \"6\", \"7\", \"8\", \"9\"]"
   ]
  },
  {
   "cell_type": "code",
   "execution_count": 21,
   "metadata": {},
   "outputs": [
    {
     "name": "stderr",
     "output_type": "stream",
     "text": [
      "100%|██████████| 235/235 [00:30<00:00,  7.78it/s]\n"
     ]
    }
   ],
   "source": [
    "num_epoch = 1\n",
    "\n",
    "for batch_size in batch_sizes:\n",
    "    for learning_rate in learning_rates:\n",
    "        model = CNN().to(device)\n",
    "\n",
    "        optimizer = optim.Adam(model.parameters(), learning_rate)\n",
    "        criterion = nn.CrossEntropyLoss()\n",
    "\n",
    "        train = DataLoader(load_train, batch_size, shuffle=True)\n",
    "        test = DataLoader(load_test, batch_size, shuffle=True)\n",
    "\n",
    "        writer = SummaryWriter(f\"runs/MNIST/MiniBatchSize {batch_size} LR {learning_rate}\")\n",
    "\n",
    "        images, label = next(iter(train))\n",
    "        writer.add_graph(model, images.to(device))\n",
    "\n",
    "        for epoch in range(num_epoch):\n",
    "            for batch_idx, (x_batch, y_batch) in enumerate(tqdm(train)):\n",
    "                \n",
    "                # Обучение\n",
    "                x_batch = x_batch.to(device)\n",
    "                y_batch = y_batch.to(device)\n",
    "\n",
    "                y_pred_batch = model(x_batch)\n",
    "\n",
    "                loss = criterion(y_pred_batch, y_batch)\n",
    "                optimizer.zero_grad()\n",
    "\n",
    "                loss.backward()\n",
    "                optimizer.step()\n",
    "                # Конец обучения\n",
    "\n",
    "                # Формируем TensorBoard\n",
    "                img_grid = torchvision.utils.make_grid(x_batch)\n",
    "                _, predictions = y_pred_batch.max(1)\n",
    "                features = x_batch.reshape(x_batch.shape[0], -1)\n",
    "                class_labels = [classes[label] for label in predictions]\n",
    "\n",
    "            \n",
    "                if batch_idx % 20 == 0:\n",
    "                    writer.add_scalar('Loss', loss, global_step=batch_idx)\n",
    "                \n",
    "                if batch_idx == 230:\n",
    "                    writer.add_embedding(\n",
    "                        features,\n",
    "                        metadata=class_labels,\n",
    "                        label_img=x_batch,\n",
    "                        global_step=batch_idx,\n",
    "                    )\n",
    "\n",
    "                writer.add_image('mnist_images', img_grid, global_step=batch_idx)\n",
    "                \n",
    "            "
   ]
  },
  {
   "cell_type": "code",
   "execution_count": null,
   "metadata": {},
   "outputs": [],
   "source": [
    "def check_accuracy(model, data):\n",
    "    model.eval()\n",
    "\n",
    "    num_samples = 0\n",
    "    num_correct = 0\n",
    "\n",
    "    with torch.no_grad():\n",
    "\n",
    "        for x_batch, y_batch in data:\n",
    "\n",
    "            x_batch = x_batch.to(device)\n",
    "            y_batch = y_batch.to(device)\n",
    "\n",
    "            y_pred = model(x_batch)\n",
    "            _, y_pred = y_pred.max(1)\n",
    "\n",
    "            num_correct += (y_pred == y_batch).sum()\n",
    "            num_samples += y_pred.shape[0]\n",
    "\n",
    "    accuracy = num_correct / num_samples * 100\n",
    "    model.train()\n",
    "    print(accuracy, )"
   ]
  },
  {
   "cell_type": "code",
   "execution_count": null,
   "metadata": {},
   "outputs": [],
   "source": [
    "check_accuracy(model, test)"
   ]
  },
  {
   "cell_type": "code",
   "execution_count": null,
   "metadata": {},
   "outputs": [],
   "source": []
  },
  {
   "cell_type": "code",
   "execution_count": null,
   "metadata": {},
   "outputs": [],
   "source": []
  }
 ],
 "metadata": {
  "kernelspec": {
   "display_name": "torch",
   "language": "python",
   "name": "python3"
  },
  "language_info": {
   "codemirror_mode": {
    "name": "ipython",
    "version": 3
   },
   "file_extension": ".py",
   "mimetype": "text/x-python",
   "name": "python",
   "nbconvert_exporter": "python",
   "pygments_lexer": "ipython3",
   "version": "3.10.9"
  },
  "orig_nbformat": 4,
  "vscode": {
   "interpreter": {
    "hash": "fe0011ce67a31b72ba55fb8e7bb9d2ac2b6ebade09aef517c89167728047b0fd"
   }
  }
 },
 "nbformat": 4,
 "nbformat_minor": 2
}
